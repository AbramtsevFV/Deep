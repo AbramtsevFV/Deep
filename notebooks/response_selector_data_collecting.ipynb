{
 "cells": [
  {
   "cell_type": "code",
   "execution_count": 114,
   "metadata": {},
   "outputs": [],
   "source": [
    "import requests\n",
    "import json"
   ]
  },
  {
   "cell_type": "code",
   "execution_count": 3,
   "metadata": {},
   "outputs": [],
   "source": [
    "dialog_ids1 = [\n",
    "    '5e412fabd655fa53fa6bc9f8',\n",
    "    '5e41291ed655fa53fa6bc927',\n",
    "    '5e412de7d655fa53fa6bc97c'\n",
    "]"
   ]
  },
  {
   "cell_type": "code",
   "execution_count": 6,
   "metadata": {},
   "outputs": [],
   "source": [
    "def get_dialog_url(dialog_id):\n",
    "    return f\"http://docker-externalloa-lofsuritnple-525614984.us-east-1.elb.amazonaws.com:4242/api/dialogs/{dialog_id}\""
   ]
  },
  {
   "cell_type": "code",
   "execution_count": 10,
   "metadata": {},
   "outputs": [],
   "source": [
    "dialog_data = requests.get(get_dialog_url(dialog_ids1[0])).json()"
   ]
  },
  {
   "cell_type": "code",
   "execution_count": 31,
   "metadata": {},
   "outputs": [
    {
     "data": {
      "text/plain": [
       "('human', \"let's chat\", 'dummy_skill', \"Let's talk about something else.\", 0.5)"
      ]
     },
     "execution_count": 31,
     "metadata": {},
     "output_type": "execute_result"
    }
   ],
   "source": [
    "(dialog_data['utterances'][0]['user']['user_type'], dialog_data['utterances'][0]['text'], \n",
    " dialog_data['utterances'][0]['hypotheses'][0]['skill_name'], dialog_data['utterances'][0]['hypotheses'][0]['text'], \n",
    " dialog_data['utterances'][0]['hypotheses'][0]['confidence'])"
   ]
  },
  {
   "cell_type": "code",
   "execution_count": 39,
   "metadata": {},
   "outputs": [
    {
     "data": {
      "text/plain": [
       "('bot',\n",
       " \"Hi, this is an Alexa Prize Socialbot! Oscars are coming: '1917', Joaquin Phoenix, Renee Zellweger and other names expected to win big at the night! How are you?\",\n",
       " 'program_y')"
      ]
     },
     "execution_count": 39,
     "metadata": {},
     "output_type": "execute_result"
    }
   ],
   "source": [
    "dialog_data['utterances'][1]['user']['user_type'], dialog_data['utterances'][1]['text'], dialog_data['utterances'][1]['active_skill']"
   ]
  },
  {
   "cell_type": "code",
   "execution_count": 70,
   "metadata": {},
   "outputs": [
    {
     "data": {
      "text/plain": [
       "9"
      ]
     },
     "execution_count": 70,
     "metadata": {},
     "output_type": "execute_result"
    }
   ],
   "source": [
    "len(dialog_data)"
   ]
  },
  {
   "cell_type": "code",
   "execution_count": 104,
   "metadata": {},
   "outputs": [],
   "source": [
    "curr_ind = 0\n",
    "utterances = dialog_data['utterances']\n",
    "rows = []\n",
    "for i in range(len(utterances)):\n",
    "    if utterances[i]['user']['user_type'] == 'bot':\n",
    "        curr_bot_utt = utterances[i]\n",
    "        if i - 1 < 0:\n",
    "            user_utts = []\n",
    "            bot_utts = []\n",
    "            new_utts = utterances[i:i]\n",
    "        elif i - 2 < 0:\n",
    "            user_utts = [{\"text\": utterances[i - 1]['text']}]\n",
    "            bot_utts = []\n",
    "            new_utts = utterances[i-1:i]\n",
    "        elif i - 4 < 0:\n",
    "            user_utts =[{\"text\": utterances[i - 1]['text']}, {\"text\": utterances[i - 3]['text']}]\n",
    "            bot_utt = utterances[i-2]\n",
    "            bot_utts = [{'text': bot_utt['text'], 'confidence': bot_utt['confidence'], 'skill_name': bot_utt['active_skill']}]\n",
    "            new_utts = utterances[i-3:i]\n",
    "        else:\n",
    "            bot_utt = utterances[i-2]\n",
    "            prev_bot_utt = utterances[i-4]\n",
    "            user_utts = [{\"text\": utterances[i - 1]['text']}, {\"text\": utterances[i - 3]['text']}]\n",
    "            bot_utts = [\n",
    "                {'text': bot_utt['text'], 'confidence': bot_utt['confidence'], 'skill_name': bot_utt['active_skill']}, \n",
    "                {'text': prev_bot_utt['text'], 'confidence': prev_bot_utt['confidence'], 'skill_name': prev_bot_utt['active_skill']}\n",
    "            ]\n",
    "            new_utts = utterances[i-4:i]\n",
    "        hypots = utterances[i - 1]['hypotheses']\n",
    "                \n",
    "        row = {'human_utterances': user_utts, 'bot_utterances': bot_utts, 'hypotheses': hypots, 'utterances': new_utts}\n",
    "        rows.append(row)"
   ]
  },
  {
   "cell_type": "code",
   "execution_count": 108,
   "metadata": {},
   "outputs": [],
   "source": [
    "dialogs_json = {\n",
    "    \"dialogs\": \n",
    "    [\n",
    "        {\n",
    "            \"human_utterances\": rows[0]['human_utterances'],\n",
    "            \"bot_utterances\": rows[0]['bot_utterances'],\n",
    "            \"utterances\": rows[0]['utterances'],\n",
    "            \"human\": {\"profile\": {}}\n",
    "        }\n",
    "    ]\n",
    "}"
   ]
  },
  {
   "cell_type": "code",
   "execution_count": 116,
   "metadata": {},
   "outputs": [],
   "source": [
    "with open('../response_selectors/convers_evaluation_based_selector/test_data.json', 'w') as f:\n",
    "    json.dump(dialogs_json, f, indent=4, ensure_ascii=False)"
   ]
  },
  {
   "cell_type": "code",
   "execution_count": 110,
   "metadata": {},
   "outputs": [],
   "source": [
    "result = requests.post(\"http://localhost:8009/respond\", json=dialogs_json)"
   ]
  },
  {
   "cell_type": "code",
   "execution_count": 112,
   "metadata": {},
   "outputs": [
    {
     "data": {
      "text/plain": [
       "[['program_y',\n",
       "  \"Hi, this is an Alexa Prize Socialbot! Oscars are coming: '1917', Joaquin Phoenix, Renee Zellweger and other names expected to win big at the night! How are you?\",\n",
       "  0.98,\n",
       "  {},\n",
       "  {}]]"
      ]
     },
     "execution_count": 112,
     "metadata": {},
     "output_type": "execute_result"
    }
   ],
   "source": [
    "result.json()"
   ]
  },
  {
   "cell_type": "code",
   "execution_count": 128,
   "metadata": {},
   "outputs": [
    {
     "name": "stdout",
     "output_type": "stream",
     "text": [
      "human: let's chat\n",
      "hypot: Hi, this is an Alexa Prize Socialbot! Oscars are coming: '1917', Joaquin Phoenix, Renee Zellweger and other names expected to win big at the night! How are you?; skill: program_y; conf: 0.98\n",
      "hypot: Should it be permitted?; skill: alice; conf: 0.65\n",
      "hypot: how are you doing tonight?; skill: dummy_skill; conf: 0.6\n",
      "hypot: Let's talk about something else.; skill: dummy_skill; conf: 0.5\n",
      "\n",
      "human: let's chat\n",
      "bot: Hi, this is an Alexa Prize Socialbot! Oscars are coming: '1917', Joaquin Phoenix, Renee Zellweger and other names expected to win big at the night! How are you?\n",
      "human: wait twenty seventeen\n",
      "hypot: I'm waiting.  I am very logical and rational.; skill: alice; conf: 0.65\n",
      "hypot: do you like to drive?; skill: dummy_skill; conf: 0.6\n",
      "hypot: I'm waiting.; skill: program_y; conf: 0.6\n",
      "hypot: I really do not know what to answer.; skill: dummy_skill; conf: 0.5\n",
      "hypot: yes, were you aware there was a sequel to the first incredibles in video game form called , \" the incredibles rise of the underminer\".; skill: movie_tfidf_retrieval; conf: 0.2882023412264027\n",
      "hypot: maybe we are suppose to keep talking but normally its 10 chat turns; skill: music_tfidf_retrieval; conf: 0.2852798603406864\n",
      "\n",
      "bot: Hi, this is an Alexa Prize Socialbot! Oscars are coming: '1917', Joaquin Phoenix, Renee Zellweger and other names expected to win big at the night! How are you?\n",
      "human: wait twenty seventeen\n",
      "bot: I'm waiting.  I am very logical and rational.\n",
      "human: it's twenty twenty\n",
      "hypot: Really.  twenty twenty is?; skill: alice; conf: 0.65\n",
      "hypot: how are you doing this evening?; skill: dummy_skill; conf: 0.6\n",
      "hypot: Sorry, probably, I didn't get what you meant.; skill: dummy_skill; conf: 0.5\n",
      "hypot: Sorry, I don't have an answer for that!; skill: program_y; conf: 0.2\n",
      "\n",
      "bot: I'm waiting.  I am very logical and rational.\n",
      "human: it's twenty twenty\n",
      "bot: how are you doing this evening?\n",
      "human: good\n",
      "hypot: I'm glad. what's your favorite movie?; skill: program_y; conf: 0.98\n",
      "hypot: That's nice of you to say.; skill: cobotqa; conf: 0.95\n",
      "hypot: she said it was an emotional time when she realized it was going to be too hard on her body.; skill: movie_tfidf_retrieval; conf: 0.7525272594714828\n",
      "hypot: Ayuh.; skill: alice; conf: 0.65\n",
      "hypot: do you follow the mls?; skill: dummy_skill; conf: 0.6\n",
      "hypot: Sorry, probably, I didn't get what you meant.; skill: dummy_skill; conf: 0.5\n",
      "\n",
      "bot: how are you doing this evening?\n",
      "human: good\n",
      "bot: I'm glad. what's your favorite movie?\n",
      "human: alarm\n",
      "hypot: Sorry, i'm a socialbot, I cannot do this. If you want to use the requested feature say, Alexa, stop, and try again.; skill: program_y; conf: 0.98\n",
      "hypot: if you need to take a short nap, set a second alarm for 20 minutes after the original time in case you fall back asleep. What do you reckon?; skill: dummy_skill; conf: 0.7\n",
      "hypot: This might answer your question: An alarm device or system of alarm devices gives an audible, visual or other form of alarm signal about a problem or condition. Any thoughts on alarm?; skill: cobotqa; conf: 0.7\n",
      "hypot: This might answer your question: An alarm device or system of alarm devices gives an audible, visual or other form of alarm signal about a problem or condition. What is your position on alarm?; skill: cobotqa; conf: 0.7\n",
      "hypot: This might answer your question: An alarm device or system of alarm devices gives an audible, visual or other form of alarm signal about a problem or condition. Do you have any particular views on alarm?; skill: cobotqa; conf: 0.7\n",
      "hypot: Why, specifically?; skill: alice; conf: 0.65\n",
      "hypot: What is your favorite action movie?; skill: convert_reddit_with_personality; conf: 0.6060301507537689\n",
      "hypot: What is your favorite action movie?; skill: convert_reddit; conf: 0.6060301507537689\n",
      "hypot: are you interested in clothing?; skill: dummy_skill; conf: 0.6\n",
      "hypot: I really do not know what to answer.; skill: dummy_skill; conf: 0.5\n",
      "\n"
     ]
    }
   ],
   "source": [
    "for row in rows:\n",
    "    for utt in row[\"utterances\"]:\n",
    "        print(f'{utt[\"user\"][\"user_type\"]}: {utt[\"text\"]}')\n",
    "    for h in sorted(row[\"hypotheses\"], key=lambda x: x[\"confidence\"], reverse=True):\n",
    "        if h['confidence'] > 0:\n",
    "            print(f'hypot: {h[\"text\"]}; skill: {h[\"skill_name\"]}; conf: {h[\"confidence\"]}')\n",
    "    print()"
   ]
  },
  {
   "cell_type": "code",
   "execution_count": null,
   "metadata": {},
   "outputs": [],
   "source": [
    "# cobot recommends to take 2 last utt for conversation evaluation service\n",
    "# conv[\"pastUtterances\"] = [uttr[\"text\"] for uttr in dialog[\"human_utterances\"]][-3:-1]\n",
    "# conv[\"pastResponses\"] = [uttr[\"text\"] for uttr in dialog[\"bot_utterances\"]][-2:]\n",
    "# collect all the conversations variants to evaluate them batch-wise"
   ]
  },
  {
   "cell_type": "code",
   "execution_count": null,
   "metadata": {},
   "outputs": [],
   "source": [
    "## Input:\n",
    "# 2 past human utts\n",
    "# 2 past bot utts\n",
    "# current human utt\n",
    "# new bot utts\n",
    "\n",
    "## Output\n",
    "# Score for each new bot utt"
   ]
  }
 ],
 "metadata": {
  "kernelspec": {
   "display_name": "Python 3",
   "language": "python",
   "name": "python3"
  },
  "language_info": {
   "codemirror_mode": {
    "name": "ipython",
    "version": 3
   },
   "file_extension": ".py",
   "mimetype": "text/x-python",
   "name": "python",
   "nbconvert_exporter": "python",
   "pygments_lexer": "ipython3",
   "version": "3.7.4"
  }
 },
 "nbformat": 4,
 "nbformat_minor": 4
}
